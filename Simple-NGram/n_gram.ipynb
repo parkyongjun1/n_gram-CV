{
 "cells": [
  {
   "cell_type": "code",
   "execution_count": 8,
   "metadata": {},
   "outputs": [
    {
     "name": "stdout",
     "output_type": "stream",
     "text": [
      "data/ACCV2020\n",
      "data/CVPR2020\n",
      "data/CVPR2021\n",
      "data/ECCV2020\n",
      "data/WACV2020\n",
      "data/WACV2021\n"
     ]
    }
   ],
   "source": [
    "from pathlib import Path\n",
    "\n",
    "datapath = './data'\n",
    "\n",
    "p = Path(datapath)\n",
    "\n",
    "for child in p.iterdir(): \n",
    "    print(child.as_posix())"
   ]
  },
  {
   "cell_type": "code",
   "execution_count": 9,
   "metadata": {},
   "outputs": [
    {
     "data": {
      "text/plain": "['data/CVPR2021/CVPR2021.txt']"
     },
     "execution_count": 9,
     "metadata": {},
     "output_type": "execute_result"
    }
   ],
   "source": [
    "confpaths = ['data/CVPR2021']\r\n",
    "\r\n",
    "titlepaths = []\r\n",
    "\r\n",
    "for conf in confpaths:\r\n",
    "    p = Path(conf)\r\n",
    "    for child in p.iterdir(): \r\n",
    "        titlepaths.append(child.as_posix())\r\n",
    "\r\n",
    "titlepaths\r\n"
   ]
  },
  {
   "cell_type": "code",
   "execution_count": 21,
   "metadata": {},
   "outputs": [
    {
     "name": "stdout",
     "output_type": "stream",
     "text": [
      "1660 lines loaded from\n",
      "['data/CVPR2021/CVPR2021.txt']\n"
     ]
    },
    {
     "data": {
      "text/plain": "[('object detection', 76),\n ('learning for', 61),\n ('network for', 59),\n ('self supervised', 50),\n ('semantic segmentation', 39),\n ('domain adaptation', 37),\n ('few shot', 37),\n ('semi supervised', 35),\n ('super resolution', 33),\n ('point cloud', 32),\n ('for 3d', 31),\n ('for unsupervised', 31),\n ('neural networks', 31),\n ('pose estimation', 30),\n ('representation learning', 29),\n ('re identification', 28),\n ('networks for', 28),\n ('weakly supervised', 28),\n ('in the', 27),\n ('learning to', 27),\n ('person re', 26),\n ('for video', 25),\n ('to end', 25),\n ('real time', 25),\n ('3d object', 24),\n ('end to', 24),\n ('instance segmentation', 23),\n ('large scale', 21),\n ('supervised learning', 21),\n ('the wild', 20)]"
     },
     "execution_count": 21,
     "metadata": {},
     "output_type": "execute_result"
    }
   ],
   "source": [
    "from NGram import NGram\r\n",
    "\r\n",
    "bigram = NGram(titlepaths,2)\r\n",
    "\r\n",
    "bigram.gram_freq_sorted[:30]"
   ]
  },
  {
   "cell_type": "code",
   "execution_count": 4,
   "metadata": {},
   "outputs": [
    {
     "data": {
      "text/plain": [
       "['A Novel Graph-based Multi-modal Fusion Encoder for Neural Machine Translation',\n",
       " 'A Reinforced Generation of Adversarial Examples for Neural Machine Translation',\n",
       " 'Addressing Posterior Collapse with Mutual Information for Improved Variational Neural Machine Translation']"
      ]
     },
     "execution_count": 4,
     "metadata": {},
     "output_type": "execute_result"
    }
   ],
   "source": [
    "bigram.showTitles('machine translation')[:3]"
   ]
  },
  {
   "cell_type": "code",
   "execution_count": 5,
   "metadata": {},
   "outputs": [
    {
     "name": "stdout",
     "output_type": "stream",
     "text": [
      "570 lines loaded from\n",
      "['data/ACL/acl2020_long.txt']\n",
      "208 lines loaded from\n",
      "['data/ACL/acl2020_short.txt']\n",
      "601 lines loaded from\n",
      "['data/EMNLP/emnlp2020_long.txt']\n",
      "150 lines loaded from\n",
      "['data/EMNLP/emnlp2020_short.txt']\n",
      "\n",
      "gram\ttotal\t0\t1\t2\t3\n",
      "machine translation\t84\t31\t21\t26\t6\n",
      "language models\t61\t20\t10\t23\t8\n",
      "neural machine\t59\t26\t12\t17\t4\n",
      "natural language\t52\t29\t4\t17\t2\n",
      "question answering\t50\t19\t4\t23\t4\n",
      "cross lingual\t41\t15\t4\t19\t3\n",
      "text generation\t36\t11\t5\t18\t2\n",
      "model for\t32\t15\t3\t10\t4\n",
      "for neural\t32\t18\t1\t12\t1\n",
      "learning for\t32\t10\t6\t13\t3\n"
     ]
    }
   ],
   "source": [
    "ngramlist = [NGram([path],2) for path in titlepaths]\n",
    "\n",
    "NGram.stat(ngramlist)"
   ]
  }
 ],
 "metadata": {
  "kernelspec": {
   "display_name": "Python 3.8.5 64-bit (conda)",
   "name": "python385jvsc74a57bd06d46af94c2bbce495f1e668725902fa517c90b1782bcfe2fce0dd9868df553d3"
  },
  "language_info": {
   "codemirror_mode": {
    "name": "ipython",
    "version": 3
   },
   "file_extension": ".py",
   "mimetype": "text/x-python",
   "name": "python",
   "nbconvert_exporter": "python",
   "pygments_lexer": "ipython3",
   "version": "3.8.5"
  },
  "orig_nbformat": 2
 },
 "nbformat": 4,
 "nbformat_minor": 2
}