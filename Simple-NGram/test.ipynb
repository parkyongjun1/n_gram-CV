{
 "cells": [
  {
   "cell_type": "code",
   "execution_count": 16,
   "metadata": {},
   "outputs": [
    {
     "name": "stdout",
     "output_type": "stream",
     "text": [
      "data/ACCV2020\n",
      "data/CVPR2020\n",
      "data/CVPR2021\n",
      "data/ECCV2020\n",
      "data/WACV2020\n",
      "data/WACV2021\n"
     ]
    }
   ],
   "source": [
    "from pathlib import Path\r\n",
    "from NGram import NGram\r\n",
    "\r\n",
    "datapath = './data/'\r\n",
    "\r\n",
    "p = Path(datapath)\r\n",
    "\r\n",
    "for conf in p.iterdir(): \r\n",
    "    print(conf.as_posix())\r\n",
    "    # for c in    conf.iterdir():\r\n",
    "    #     print(' ',c.as_posix())\r\n"
   ]
  },
  {
   "cell_type": "code",
   "execution_count": 77,
   "metadata": {
    "tags": []
   },
   "outputs": [],
   "source": [
    "# file = open(\"data/ECCV2020/ECCV2020.txt\", \"r\", encoding='UTF8')\n",
    "\n",
    "# lista = []\n",
    "# vstr=''\n",
    "# for line in file:\n",
    "#     if len(line.strip()) > 1:\n",
    "#         lista.append(line)\n",
    "\n",
    "# file = open(\"data/ECCV2020/ECCV2020_test.txt\", \"w\", encoding='UTF8')\n",
    "\n",
    "# for i in lista:\n",
    "#     vstr = vstr + str(i)\n",
    "# file.writelines(vstr)\n",
    "\n",
    "\n"
   ]
  },
  {
   "cell_type": "code",
   "execution_count": 21,
   "metadata": {},
   "outputs": [
    {
     "name": "stdout",
     "output_type": "stream",
     "text": [
      "1466 lines loaded from\n",
      "['data/CVPR2020/CVPR2020.txt']\n",
      "1660 lines loaded from\n",
      "['data/CVPR2021/CVPR2021.txt']\n",
      "gram                          \ttotal\tCVPR2020\tCVPR2021\n",
      "learning                      \t698\t319\t379\n",
      "image                         \t392\t193\t199\n",
      "object                        \t302\t140\t162\n",
      "3d                            \t297\t147\t150\n",
      "detection                     \t265\t120\t145\n",
      "segmentation                  \t248\t115\t133\n",
      "network                       \t236\t128\t108\n",
      "via                           \t230\t98\t132\n",
      "neural                        \t216\t103\t113\n",
      "deep                          \t211\t123\t88\n",
      "supervised                    \t207\t87\t120\n",
      "video                         \t206\t90\t116\n",
      "multi                         \t197\t102\t95\n",
      "networks                      \t182\t96\t86\n",
      "based                         \t176\t93\t83\n",
      "estimation                    \t159\t87\t72\n",
      "domain                        \t153\t66\t87\n",
      "self                          \t150\t65\t85\n",
      "recognition                   \t150\t81\t69\n",
      "visual                        \t147\t63\t84\n"
     ]
    }
   ],
   "source": [
    "# confpaths = [['data/ACL'],['data/LREC'],['data/CoNLL'],['data/EMNLP'],['data/AACL'],['data/COLING'],['data/EACL']]\r\n",
    "# confpaths = [['data/ACL','data/LREC'],['data/CoNLL','data/EMNLP','data/AACL','data/COLING'],['data/EACL']]\r\n",
    "# confpaths = [['data/ACL'],['data/EMNLP'],['data/AACL','data/EACL']]\r\n",
    "# confpaths = [['data/ACL'],['data/LREC']]\r\n",
    "# confpaths = [['data/COLING'],['data/CoNLL'],['data/EMNLP'],['data/AACL']]\r\n",
    "# ['data/ACCV2020'],['data/CVPR2020'],['data/WACV2020'],['data/WACV2021'], \r\n",
    "confpaths = [['data/CVPR2020'],['data/CVPR2021']]\r\n",
    "\r\n",
    "\r\n",
    "N = 1\r\n",
    "ngramlist = []\r\n",
    "\r\n",
    "for conf in confpaths:\r\n",
    "    paths = []\r\n",
    "    for c in conf:\r\n",
    "        p = Path(c)\r\n",
    "        paths += [child.as_posix() for child in p.iterdir()]\r\n",
    "    ngramlist.append(NGram(paths,N,name=','.join([c[5:] for c in conf])))\r\n",
    "\r\n",
    "NGram.stat(ngramlist,top=20, console=True)"
   ]
  },
  {
   "cell_type": "code",
   "execution_count": 10,
   "metadata": {},
   "outputs": [
    {
     "ename": "IndexError",
     "evalue": "list index out of range",
     "output_type": "error",
     "traceback": [
      "\u001b[1;31m---------------------------------------------------------------------------\u001b[0m",
      "\u001b[1;31mIndexError\u001b[0m                                Traceback (most recent call last)",
      "\u001b[1;32m<ipython-input-10-ba18a3a4df8e>\u001b[0m in \u001b[0;36m<module>\u001b[1;34m\u001b[0m\n\u001b[1;32m----> 1\u001b[1;33m \u001b[0mngramlist\u001b[0m\u001b[1;33m[\u001b[0m\u001b[1;33m-\u001b[0m\u001b[1;36m1\u001b[0m\u001b[1;33m]\u001b[0m\u001b[1;33m.\u001b[0m\u001b[0mshow_titles\u001b[0m\u001b[1;33m(\u001b[0m\u001b[1;34m''\u001b[0m\u001b[1;33m)\u001b[0m\u001b[1;33m\u001b[0m\u001b[1;33m\u001b[0m\u001b[0m\n\u001b[0m",
      "\u001b[1;31mIndexError\u001b[0m: list index out of range"
     ]
    }
   ],
   "source": [
    "ngramlist[-1].show_titles('')"
   ]
  },
  {
   "cell_type": "code",
   "execution_count": 9,
   "metadata": {},
   "outputs": [
    {
     "ename": "FileNotFoundError",
     "evalue": "[WinError 3] 지정된 경로를 찾을 수 없습니다: 'data\\\\LREC'",
     "output_type": "error",
     "traceback": [
      "\u001b[1;31m---------------------------------------------------------------------------\u001b[0m",
      "\u001b[1;31mFileNotFoundError\u001b[0m                         Traceback (most recent call last)",
      "\u001b[1;32m<ipython-input-9-e36e901552e1>\u001b[0m in \u001b[0;36m<module>\u001b[1;34m\u001b[0m\n\u001b[0;32m      7\u001b[0m \u001b[1;32mfor\u001b[0m \u001b[0mconf\u001b[0m \u001b[1;32min\u001b[0m \u001b[0mconfpaths\u001b[0m\u001b[1;33m:\u001b[0m\u001b[1;33m\u001b[0m\u001b[1;33m\u001b[0m\u001b[0m\n\u001b[0;32m      8\u001b[0m     \u001b[0mp\u001b[0m \u001b[1;33m=\u001b[0m \u001b[0mPath\u001b[0m\u001b[1;33m(\u001b[0m\u001b[0mconf\u001b[0m\u001b[1;33m)\u001b[0m\u001b[1;33m\u001b[0m\u001b[1;33m\u001b[0m\u001b[0m\n\u001b[1;32m----> 9\u001b[1;33m     \u001b[0mpaths\u001b[0m \u001b[1;33m=\u001b[0m \u001b[1;33m[\u001b[0m\u001b[0mchild\u001b[0m\u001b[1;33m.\u001b[0m\u001b[0mas_posix\u001b[0m\u001b[1;33m(\u001b[0m\u001b[1;33m)\u001b[0m \u001b[1;32mfor\u001b[0m \u001b[0mchild\u001b[0m \u001b[1;32min\u001b[0m \u001b[0mp\u001b[0m\u001b[1;33m.\u001b[0m\u001b[0miterdir\u001b[0m\u001b[1;33m(\u001b[0m\u001b[1;33m)\u001b[0m\u001b[1;33m]\u001b[0m\u001b[1;33m\u001b[0m\u001b[1;33m\u001b[0m\u001b[0m\n\u001b[0m\u001b[0;32m     10\u001b[0m     \u001b[0mngramlist\u001b[0m\u001b[1;33m.\u001b[0m\u001b[0mappend\u001b[0m\u001b[1;33m(\u001b[0m\u001b[0mNGram\u001b[0m\u001b[1;33m(\u001b[0m\u001b[0mpaths\u001b[0m\u001b[1;33m,\u001b[0m\u001b[0mN\u001b[0m\u001b[1;33m,\u001b[0m\u001b[0mname\u001b[0m\u001b[1;33m=\u001b[0m\u001b[0mconf\u001b[0m\u001b[1;33m[\u001b[0m\u001b[1;36m5\u001b[0m\u001b[1;33m:\u001b[0m\u001b[1;33m]\u001b[0m\u001b[1;33m)\u001b[0m\u001b[1;33m)\u001b[0m\u001b[1;33m\u001b[0m\u001b[1;33m\u001b[0m\u001b[0m\n\u001b[0;32m     11\u001b[0m \u001b[1;33m\u001b[0m\u001b[0m\n",
      "\u001b[1;32m<ipython-input-9-e36e901552e1>\u001b[0m in \u001b[0;36m<listcomp>\u001b[1;34m(.0)\u001b[0m\n\u001b[0;32m      7\u001b[0m \u001b[1;32mfor\u001b[0m \u001b[0mconf\u001b[0m \u001b[1;32min\u001b[0m \u001b[0mconfpaths\u001b[0m\u001b[1;33m:\u001b[0m\u001b[1;33m\u001b[0m\u001b[1;33m\u001b[0m\u001b[0m\n\u001b[0;32m      8\u001b[0m     \u001b[0mp\u001b[0m \u001b[1;33m=\u001b[0m \u001b[0mPath\u001b[0m\u001b[1;33m(\u001b[0m\u001b[0mconf\u001b[0m\u001b[1;33m)\u001b[0m\u001b[1;33m\u001b[0m\u001b[1;33m\u001b[0m\u001b[0m\n\u001b[1;32m----> 9\u001b[1;33m     \u001b[0mpaths\u001b[0m \u001b[1;33m=\u001b[0m \u001b[1;33m[\u001b[0m\u001b[0mchild\u001b[0m\u001b[1;33m.\u001b[0m\u001b[0mas_posix\u001b[0m\u001b[1;33m(\u001b[0m\u001b[1;33m)\u001b[0m \u001b[1;32mfor\u001b[0m \u001b[0mchild\u001b[0m \u001b[1;32min\u001b[0m \u001b[0mp\u001b[0m\u001b[1;33m.\u001b[0m\u001b[0miterdir\u001b[0m\u001b[1;33m(\u001b[0m\u001b[1;33m)\u001b[0m\u001b[1;33m]\u001b[0m\u001b[1;33m\u001b[0m\u001b[1;33m\u001b[0m\u001b[0m\n\u001b[0m\u001b[0;32m     10\u001b[0m     \u001b[0mngramlist\u001b[0m\u001b[1;33m.\u001b[0m\u001b[0mappend\u001b[0m\u001b[1;33m(\u001b[0m\u001b[0mNGram\u001b[0m\u001b[1;33m(\u001b[0m\u001b[0mpaths\u001b[0m\u001b[1;33m,\u001b[0m\u001b[0mN\u001b[0m\u001b[1;33m,\u001b[0m\u001b[0mname\u001b[0m\u001b[1;33m=\u001b[0m\u001b[0mconf\u001b[0m\u001b[1;33m[\u001b[0m\u001b[1;36m5\u001b[0m\u001b[1;33m:\u001b[0m\u001b[1;33m]\u001b[0m\u001b[1;33m)\u001b[0m\u001b[1;33m)\u001b[0m\u001b[1;33m\u001b[0m\u001b[1;33m\u001b[0m\u001b[0m\n\u001b[0;32m     11\u001b[0m \u001b[1;33m\u001b[0m\u001b[0m\n",
      "\u001b[1;32m~\\anaconda3\\lib\\pathlib.py\u001b[0m in \u001b[0;36miterdir\u001b[1;34m(self)\u001b[0m\n\u001b[0;32m   1116\u001b[0m         \u001b[1;32mif\u001b[0m \u001b[0mself\u001b[0m\u001b[1;33m.\u001b[0m\u001b[0m_closed\u001b[0m\u001b[1;33m:\u001b[0m\u001b[1;33m\u001b[0m\u001b[1;33m\u001b[0m\u001b[0m\n\u001b[0;32m   1117\u001b[0m             \u001b[0mself\u001b[0m\u001b[1;33m.\u001b[0m\u001b[0m_raise_closed\u001b[0m\u001b[1;33m(\u001b[0m\u001b[1;33m)\u001b[0m\u001b[1;33m\u001b[0m\u001b[1;33m\u001b[0m\u001b[0m\n\u001b[1;32m-> 1118\u001b[1;33m         \u001b[1;32mfor\u001b[0m \u001b[0mname\u001b[0m \u001b[1;32min\u001b[0m \u001b[0mself\u001b[0m\u001b[1;33m.\u001b[0m\u001b[0m_accessor\u001b[0m\u001b[1;33m.\u001b[0m\u001b[0mlistdir\u001b[0m\u001b[1;33m(\u001b[0m\u001b[0mself\u001b[0m\u001b[1;33m)\u001b[0m\u001b[1;33m:\u001b[0m\u001b[1;33m\u001b[0m\u001b[1;33m\u001b[0m\u001b[0m\n\u001b[0m\u001b[0;32m   1119\u001b[0m             \u001b[1;32mif\u001b[0m \u001b[0mname\u001b[0m \u001b[1;32min\u001b[0m \u001b[1;33m{\u001b[0m\u001b[1;34m'.'\u001b[0m\u001b[1;33m,\u001b[0m \u001b[1;34m'..'\u001b[0m\u001b[1;33m}\u001b[0m\u001b[1;33m:\u001b[0m\u001b[1;33m\u001b[0m\u001b[1;33m\u001b[0m\u001b[0m\n\u001b[0;32m   1120\u001b[0m                 \u001b[1;31m# Yielding a path object for these makes little sense\u001b[0m\u001b[1;33m\u001b[0m\u001b[1;33m\u001b[0m\u001b[1;33m\u001b[0m\u001b[0m\n",
      "\u001b[1;31mFileNotFoundError\u001b[0m: [WinError 3] 지정된 경로를 찾을 수 없습니다: 'data\\\\LREC'"
     ]
    }
   ],
   "source": [
    "\n",
    "confpaths = ['data/LREC']\n",
    "# confpaths = ['data/SIGIR','data/WWW']\n",
    "N = 1\n",
    "\n",
    "ngramlist = []\n",
    "\n",
    "for conf in confpaths:\n",
    "    p = Path(conf)\n",
    "    paths = [child.as_posix() for child in p.iterdir()]\n",
    "    ngramlist.append(NGram(paths,N,name=conf[5:]))\n",
    "\n",
    "NGram.stat(ngramlist,top=50)"
   ]
  },
  {
   "cell_type": "code",
   "execution_count": 13,
   "metadata": {},
   "outputs": [
    {
     "data": {
      "text/plain": [
       "[('learning for', 11),\n",
       " ('network for', 9),\n",
       " ('knowledge graph', 8),\n",
       " ('learning to', 8),\n",
       " ('recommender systems', 8),\n",
       " ('on the', 7),\n",
       " ('in online', 7),\n",
       " ('large scale', 6),\n",
       " ('representation learning', 6),\n",
       " ('graph neural', 6),\n",
       " ('networks for', 6),\n",
       " ('study of', 5),\n",
       " ('knowledge graphs', 5),\n",
       " ('question answering', 5),\n",
       " ('multi task', 5),\n",
       " ('social networks', 5),\n",
       " ('framework for', 5),\n",
       " ('to rank', 5),\n",
       " ('fine grained', 4),\n",
       " ('understanding the', 4)]"
      ]
     },
     "execution_count": 13,
     "metadata": {},
     "output_type": "execute_result"
    }
   ],
   "source": [
    "ngramlist[-1].gram_freq_sorted[:20]"
   ]
  },
  {
   "cell_type": "code",
   "execution_count": null,
   "metadata": {},
   "outputs": [],
   "source": []
  }
 ],
 "metadata": {
  "kernelspec": {
   "display_name": "Python 3.8.5 64-bit (conda)",
   "name": "python385jvsc74a57bd06d46af94c2bbce495f1e668725902fa517c90b1782bcfe2fce0dd9868df553d3"
  },
  "language_info": {
   "codemirror_mode": {
    "name": "ipython",
    "version": 3
   },
   "file_extension": ".py",
   "mimetype": "text/x-python",
   "name": "python",
   "nbconvert_exporter": "python",
   "pygments_lexer": "ipython3",
   "version": "3.8.5"
  },
  "orig_nbformat": 3
 },
 "nbformat": 4,
 "nbformat_minor": 2
}